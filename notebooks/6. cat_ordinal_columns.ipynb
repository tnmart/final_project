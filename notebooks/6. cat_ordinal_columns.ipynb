{
 "cells": [
  {
   "cell_type": "markdown",
   "id": "92465c2c-16d4-40db-bfc7-866b5c664dff",
   "metadata": {},
   "source": [
    "## Categorical Ordinal columns"
   ]
  },
  {
   "cell_type": "markdown",
   "id": "4f335c0f-315d-4762-98e7-a6838d1a8d58",
   "metadata": {},
   "source": [
    "In this step I'm going to assume that there are categories in some of the features that have more weight for the final salary than others. In this case I assume those are categorical ordinal columns and I will replace the values with numbers to reflect that weight."
   ]
  },
  {
   "cell_type": "code",
   "execution_count": 1,
   "id": "d6b1a6ee-3cde-4294-89a9-49c684f08f32",
   "metadata": {},
   "outputs": [],
   "source": [
    "import pandas as pd\n",
    "import numpy as np"
   ]
  },
  {
   "cell_type": "code",
   "execution_count": 2,
   "id": "651819ed-2e3c-43c0-a68c-09bce21e1be6",
   "metadata": {},
   "outputs": [],
   "source": [
    "df = pd.read_csv(\"../data/cleaned/jobs_in_data_cardinality.csv\")"
   ]
  },
  {
   "cell_type": "code",
   "execution_count": 3,
   "id": "538388ab-cf64-48ea-82fd-2517a7f53245",
   "metadata": {},
   "outputs": [
    {
     "data": {
      "text/html": [
       "<div>\n",
       "<style scoped>\n",
       "    .dataframe tbody tr th:only-of-type {\n",
       "        vertical-align: middle;\n",
       "    }\n",
       "\n",
       "    .dataframe tbody tr th {\n",
       "        vertical-align: top;\n",
       "    }\n",
       "\n",
       "    .dataframe thead th {\n",
       "        text-align: right;\n",
       "    }\n",
       "</style>\n",
       "<table border=\"1\" class=\"dataframe\">\n",
       "  <thead>\n",
       "    <tr style=\"text-align: right;\">\n",
       "      <th></th>\n",
       "      <th>work_year</th>\n",
       "      <th>job_title</th>\n",
       "      <th>job_category</th>\n",
       "      <th>employee_residence</th>\n",
       "      <th>experience_level</th>\n",
       "      <th>employment_type</th>\n",
       "      <th>work_setting</th>\n",
       "      <th>company_location</th>\n",
       "      <th>company_size</th>\n",
       "      <th>salary_in_euros</th>\n",
       "      <th>cost_of_living</th>\n",
       "      <th>purchasing_power</th>\n",
       "      <th>job_field</th>\n",
       "    </tr>\n",
       "  </thead>\n",
       "  <tbody>\n",
       "    <tr>\n",
       "      <th>0</th>\n",
       "      <td>2023</td>\n",
       "      <td>Data DevOps Engineer</td>\n",
       "      <td>Data Engineering</td>\n",
       "      <td>Germany</td>\n",
       "      <td>Mid-level</td>\n",
       "      <td>Full-time</td>\n",
       "      <td>Hybrid</td>\n",
       "      <td>Germany</td>\n",
       "      <td>L</td>\n",
       "      <td>87411</td>\n",
       "      <td>127.47</td>\n",
       "      <td>685.74</td>\n",
       "      <td>Data Engineering</td>\n",
       "    </tr>\n",
       "    <tr>\n",
       "      <th>1</th>\n",
       "      <td>2023</td>\n",
       "      <td>Data Architect</td>\n",
       "      <td>Data Architecture and Modeling</td>\n",
       "      <td>United States</td>\n",
       "      <td>Senior</td>\n",
       "      <td>Full-time</td>\n",
       "      <td>In-person</td>\n",
       "      <td>United States</td>\n",
       "      <td>M</td>\n",
       "      <td>171120</td>\n",
       "      <td>143.34</td>\n",
       "      <td>1193.80</td>\n",
       "      <td>Data Engineering</td>\n",
       "    </tr>\n",
       "    <tr>\n",
       "      <th>2</th>\n",
       "      <td>2023</td>\n",
       "      <td>Data Architect</td>\n",
       "      <td>Data Architecture and Modeling</td>\n",
       "      <td>United States</td>\n",
       "      <td>Senior</td>\n",
       "      <td>Full-time</td>\n",
       "      <td>In-person</td>\n",
       "      <td>United States</td>\n",
       "      <td>M</td>\n",
       "      <td>75256</td>\n",
       "      <td>143.34</td>\n",
       "      <td>525.02</td>\n",
       "      <td>Data Engineering</td>\n",
       "    </tr>\n",
       "    <tr>\n",
       "      <th>3</th>\n",
       "      <td>2023</td>\n",
       "      <td>Data Scientist</td>\n",
       "      <td>Data Science and Research</td>\n",
       "      <td>United States</td>\n",
       "      <td>Senior</td>\n",
       "      <td>Full-time</td>\n",
       "      <td>In-person</td>\n",
       "      <td>United States</td>\n",
       "      <td>M</td>\n",
       "      <td>195040</td>\n",
       "      <td>143.34</td>\n",
       "      <td>1360.68</td>\n",
       "      <td>Data Science</td>\n",
       "    </tr>\n",
       "    <tr>\n",
       "      <th>4</th>\n",
       "      <td>2023</td>\n",
       "      <td>Data Scientist</td>\n",
       "      <td>Data Science and Research</td>\n",
       "      <td>United States</td>\n",
       "      <td>Senior</td>\n",
       "      <td>Full-time</td>\n",
       "      <td>In-person</td>\n",
       "      <td>United States</td>\n",
       "      <td>M</td>\n",
       "      <td>85836</td>\n",
       "      <td>143.34</td>\n",
       "      <td>598.83</td>\n",
       "      <td>Data Science</td>\n",
       "    </tr>\n",
       "  </tbody>\n",
       "</table>\n",
       "</div>"
      ],
      "text/plain": [
       "   work_year             job_title                    job_category  \\\n",
       "0       2023  Data DevOps Engineer                Data Engineering   \n",
       "1       2023        Data Architect  Data Architecture and Modeling   \n",
       "2       2023        Data Architect  Data Architecture and Modeling   \n",
       "3       2023        Data Scientist       Data Science and Research   \n",
       "4       2023        Data Scientist       Data Science and Research   \n",
       "\n",
       "  employee_residence experience_level employment_type work_setting  \\\n",
       "0            Germany        Mid-level       Full-time       Hybrid   \n",
       "1      United States           Senior       Full-time    In-person   \n",
       "2      United States           Senior       Full-time    In-person   \n",
       "3      United States           Senior       Full-time    In-person   \n",
       "4      United States           Senior       Full-time    In-person   \n",
       "\n",
       "  company_location company_size  salary_in_euros  cost_of_living  \\\n",
       "0          Germany            L            87411          127.47   \n",
       "1    United States            M           171120          143.34   \n",
       "2    United States            M            75256          143.34   \n",
       "3    United States            M           195040          143.34   \n",
       "4    United States            M            85836          143.34   \n",
       "\n",
       "   purchasing_power         job_field  \n",
       "0            685.74  Data Engineering  \n",
       "1           1193.80  Data Engineering  \n",
       "2            525.02  Data Engineering  \n",
       "3           1360.68      Data Science  \n",
       "4            598.83      Data Science  "
      ]
     },
     "execution_count": 3,
     "metadata": {},
     "output_type": "execute_result"
    }
   ],
   "source": [
    "df.head()"
   ]
  },
  {
   "cell_type": "markdown",
   "id": "d701f688-6664-42cc-82e1-cda6b83c92c4",
   "metadata": {},
   "source": [
    "#### Experience Level\n",
    "I'm going to start by experience level assuming that the more experience you have the more well paid you are."
   ]
  },
  {
   "cell_type": "code",
   "execution_count": 4,
   "id": "26578534-7f2d-4a93-ae1d-0af3b725d604",
   "metadata": {},
   "outputs": [
    {
     "data": {
      "text/plain": [
       "experience_level\n",
       "Senior         3439\n",
       "Mid-level      1272\n",
       "Entry-level     397\n",
       "Executive       222\n",
       "Name: count, dtype: int64"
      ]
     },
     "execution_count": 4,
     "metadata": {},
     "output_type": "execute_result"
    }
   ],
   "source": [
    "df['experience_level'].value_counts()"
   ]
  },
  {
   "cell_type": "code",
   "execution_count": 5,
   "id": "6066b25e-28d9-4a2f-a097-5634ab1dd886",
   "metadata": {},
   "outputs": [],
   "source": [
    "experience_level = {\n",
    "    'Entry-level': 1,\n",
    "    'Mid-level': 2,\n",
    "    'Senior': 3,\n",
    "    'Executive': 4,\n",
    "}\n"
   ]
  },
  {
   "cell_type": "code",
   "execution_count": 6,
   "id": "accc68cf-bcab-4a60-8c5a-ca23336f9b9c",
   "metadata": {},
   "outputs": [
    {
     "name": "stderr",
     "output_type": "stream",
     "text": [
      "/var/folders/dx/5q4b9pnn4zl_g4hjsbv88qx00000gn/T/ipykernel_64978/953033904.py:1: FutureWarning: Downcasting behavior in `replace` is deprecated and will be removed in a future version. To retain the old behavior, explicitly call `result.infer_objects(copy=False)`. To opt-in to the future behavior, set `pd.set_option('future.no_silent_downcasting', True)`\n",
      "  df['experience_level'] = df['experience_level'].replace(experience_level)\n"
     ]
    },
    {
     "data": {
      "text/plain": [
       "experience_level\n",
       "3    3439\n",
       "2    1272\n",
       "1     397\n",
       "4     222\n",
       "Name: count, dtype: int64"
      ]
     },
     "execution_count": 6,
     "metadata": {},
     "output_type": "execute_result"
    }
   ],
   "source": [
    "df['experience_level'] = df['experience_level'].replace(experience_level)\n",
    "df['experience_level'].value_counts()"
   ]
  },
  {
   "cell_type": "markdown",
   "id": "c2427bbc-66eb-4bdf-aeac-9fbefcf3fd52",
   "metadata": {},
   "source": [
    "#### Employment Type\n",
    "I assume also that the type of employment will have a determinant weight on the salary because that considers the number of hours an employee works for the company."
   ]
  },
  {
   "cell_type": "code",
   "execution_count": 7,
   "id": "6118f1cd-324e-4ebd-a67e-19801b18de3e",
   "metadata": {},
   "outputs": [
    {
     "data": {
      "text/plain": [
       "employment_type\n",
       "Full-time    5286\n",
       "Contract       19\n",
       "Part-time      15\n",
       "Freelance      10\n",
       "Name: count, dtype: int64"
      ]
     },
     "execution_count": 7,
     "metadata": {},
     "output_type": "execute_result"
    }
   ],
   "source": [
    "df['employment_type'].value_counts()"
   ]
  },
  {
   "cell_type": "code",
   "execution_count": 8,
   "id": "f26c13b6-450c-4258-8853-74342eb90c00",
   "metadata": {},
   "outputs": [],
   "source": [
    "employment_type = {\n",
    "    'Full-time': 4,\n",
    "    'Contract': 3,\n",
    "    'Part-time': 2,\n",
    "    'Freelance':1,\n",
    "}\n"
   ]
  },
  {
   "cell_type": "code",
   "execution_count": 9,
   "id": "19d4504b-965b-4914-8125-15067c85634d",
   "metadata": {},
   "outputs": [
    {
     "name": "stderr",
     "output_type": "stream",
     "text": [
      "/var/folders/dx/5q4b9pnn4zl_g4hjsbv88qx00000gn/T/ipykernel_64978/638933385.py:1: FutureWarning: Downcasting behavior in `replace` is deprecated and will be removed in a future version. To retain the old behavior, explicitly call `result.infer_objects(copy=False)`. To opt-in to the future behavior, set `pd.set_option('future.no_silent_downcasting', True)`\n",
      "  df['employment_type'] = df['employment_type'].replace(employment_type)\n"
     ]
    },
    {
     "data": {
      "text/plain": [
       "employment_type\n",
       "4    5286\n",
       "3      19\n",
       "2      15\n",
       "1      10\n",
       "Name: count, dtype: int64"
      ]
     },
     "execution_count": 9,
     "metadata": {},
     "output_type": "execute_result"
    }
   ],
   "source": [
    "df['employment_type'] = df['employment_type'].replace(employment_type)\n",
    "df['employment_type'].value_counts()"
   ]
  },
  {
   "cell_type": "code",
   "execution_count": 10,
   "id": "72045827-1446-4888-88be-b56b504ae3ef",
   "metadata": {},
   "outputs": [
    {
     "data": {
      "text/plain": [
       "work_setting\n",
       "In-person    2911\n",
       "Remote       2233\n",
       "Hybrid        186\n",
       "Name: count, dtype: int64"
      ]
     },
     "execution_count": 10,
     "metadata": {},
     "output_type": "execute_result"
    }
   ],
   "source": [
    "df['work_setting'].value_counts()"
   ]
  },
  {
   "cell_type": "code",
   "execution_count": 11,
   "id": "6775b7a2-05ee-4b4b-90b0-363c4729ed4c",
   "metadata": {},
   "outputs": [],
   "source": [
    "work_setting = {\n",
    "    'In-person': 3,\n",
    "    'Hybrid': 2,\n",
    "    'Remote': 1,\n",
    "}"
   ]
  },
  {
   "cell_type": "code",
   "execution_count": 12,
   "id": "14ffdf37-5780-4ebf-9aa0-abbf40eb300c",
   "metadata": {},
   "outputs": [
    {
     "name": "stderr",
     "output_type": "stream",
     "text": [
      "/var/folders/dx/5q4b9pnn4zl_g4hjsbv88qx00000gn/T/ipykernel_64978/134326409.py:1: FutureWarning: Downcasting behavior in `replace` is deprecated and will be removed in a future version. To retain the old behavior, explicitly call `result.infer_objects(copy=False)`. To opt-in to the future behavior, set `pd.set_option('future.no_silent_downcasting', True)`\n",
      "  df['work_setting'] = df['work_setting'].replace(work_setting)\n"
     ]
    },
    {
     "data": {
      "text/plain": [
       "work_setting\n",
       "3    2911\n",
       "1    2233\n",
       "2     186\n",
       "Name: count, dtype: int64"
      ]
     },
     "execution_count": 12,
     "metadata": {},
     "output_type": "execute_result"
    }
   ],
   "source": [
    "df['work_setting'] = df['work_setting'].replace(work_setting)\n",
    "df['work_setting'].value_counts()"
   ]
  },
  {
   "cell_type": "code",
   "execution_count": 13,
   "id": "a2dd5b97-00bb-4297-a024-23a59e025ce4",
   "metadata": {},
   "outputs": [
    {
     "data": {
      "text/plain": [
       "company_size\n",
       "M    4682\n",
       "L     492\n",
       "S     156\n",
       "Name: count, dtype: int64"
      ]
     },
     "execution_count": 13,
     "metadata": {},
     "output_type": "execute_result"
    }
   ],
   "source": [
    "df['company_size'].value_counts()"
   ]
  },
  {
   "cell_type": "code",
   "execution_count": 14,
   "id": "18007a0e-ec0b-42bc-87f6-a82140f8cc77",
   "metadata": {},
   "outputs": [],
   "source": [
    "company_size = {\n",
    "    'L': 3,\n",
    "    'M': 2,\n",
    "    'S': 1,\n",
    "}"
   ]
  },
  {
   "cell_type": "code",
   "execution_count": 15,
   "id": "c1a7cc45-d0d9-4e7a-876f-4820cc87cee8",
   "metadata": {},
   "outputs": [
    {
     "name": "stderr",
     "output_type": "stream",
     "text": [
      "/var/folders/dx/5q4b9pnn4zl_g4hjsbv88qx00000gn/T/ipykernel_64978/2354544663.py:1: FutureWarning: Downcasting behavior in `replace` is deprecated and will be removed in a future version. To retain the old behavior, explicitly call `result.infer_objects(copy=False)`. To opt-in to the future behavior, set `pd.set_option('future.no_silent_downcasting', True)`\n",
      "  df['company_size'] = df['company_size'].replace(company_size)\n"
     ]
    },
    {
     "data": {
      "text/plain": [
       "company_size\n",
       "2    4682\n",
       "3     492\n",
       "1     156\n",
       "Name: count, dtype: int64"
      ]
     },
     "execution_count": 15,
     "metadata": {},
     "output_type": "execute_result"
    }
   ],
   "source": [
    "df['company_size'] = df['company_size'].replace(company_size)\n",
    "df['company_size'].value_counts()"
   ]
  },
  {
   "cell_type": "markdown",
   "id": "7a11f8e5-1d36-437f-8ff6-979d5640756d",
   "metadata": {},
   "source": [
    "#### Other categories\n",
    "After analyzing the other features I decided that there were no more categorical ordinal columns so I won't change anything else."
   ]
  },
  {
   "cell_type": "code",
   "execution_count": 16,
   "id": "1fa27b01-e8f6-4dbe-930f-b6dbb57a4e1d",
   "metadata": {},
   "outputs": [
    {
     "data": {
      "text/plain": [
       "work_year               int64\n",
       "job_title              object\n",
       "job_category           object\n",
       "employee_residence     object\n",
       "experience_level        int64\n",
       "employment_type         int64\n",
       "work_setting            int64\n",
       "company_location       object\n",
       "company_size            int64\n",
       "salary_in_euros         int64\n",
       "cost_of_living        float64\n",
       "purchasing_power      float64\n",
       "job_field              object\n",
       "dtype: object"
      ]
     },
     "execution_count": 16,
     "metadata": {},
     "output_type": "execute_result"
    }
   ],
   "source": [
    "df.dtypes"
   ]
  },
  {
   "cell_type": "code",
   "execution_count": 17,
   "id": "900680de-ef28-4788-84a5-f2f7b4b386a9",
   "metadata": {},
   "outputs": [],
   "source": [
    "df.to_csv(\"../data/cleaned/6.jobs_in_data.csv\", index=False)"
   ]
  }
 ],
 "metadata": {
  "kernelspec": {
   "display_name": "pip",
   "language": "python",
   "name": "pip"
  },
  "language_info": {
   "codemirror_mode": {
    "name": "ipython",
    "version": 3
   },
   "file_extension": ".py",
   "mimetype": "text/x-python",
   "name": "python",
   "nbconvert_exporter": "python",
   "pygments_lexer": "ipython3",
   "version": "3.11.6"
  }
 },
 "nbformat": 4,
 "nbformat_minor": 5
}

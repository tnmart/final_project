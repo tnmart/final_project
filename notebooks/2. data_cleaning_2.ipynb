{
 "cells": [
  {
   "cell_type": "markdown",
   "id": "28a9d1b9-e78e-4595-aa99-be3c499470ca",
   "metadata": {},
   "source": [
    "## Data Overview"
   ]
  },
  {
   "cell_type": "markdown",
   "id": "2c2fa9c7-b753-46ca-9be9-07143f4db597",
   "metadata": {},
   "source": [
    "I would now like to add a new column to the original dataframe of jobs in data that accounts for the different living costs depending on the employee's residence because sometimes the absolute salary doesn't tell the whole story. With that in mind i researched a new dataframe with data regarding cost of living by country and I'm going to add it to the original dataframe."
   ]
  },
  {
   "cell_type": "code",
   "execution_count": 1,
   "id": "a92b83ea-5cdf-4a9b-8234-8f0a784e72f5",
   "metadata": {},
   "outputs": [],
   "source": [
    "import pandas as pd\n",
    "import numpy as np\n",
    "import functions"
   ]
  },
  {
   "cell_type": "code",
   "execution_count": 2,
   "id": "441870dd-d555-4277-a951-41606538e7ee",
   "metadata": {},
   "outputs": [
    {
     "data": {
      "text/html": [
       "<div>\n",
       "<style scoped>\n",
       "    .dataframe tbody tr th:only-of-type {\n",
       "        vertical-align: middle;\n",
       "    }\n",
       "\n",
       "    .dataframe tbody tr th {\n",
       "        vertical-align: top;\n",
       "    }\n",
       "\n",
       "    .dataframe thead th {\n",
       "        text-align: right;\n",
       "    }\n",
       "</style>\n",
       "<table border=\"1\" class=\"dataframe\">\n",
       "  <thead>\n",
       "    <tr style=\"text-align: right;\">\n",
       "      <th></th>\n",
       "      <th>country</th>\n",
       "      <th>NumbeoCoL2023</th>\n",
       "      <th>NumbeoCoLPlusRent2023</th>\n",
       "      <th>costOfLivingLC</th>\n",
       "      <th>costOfLivingByCountry_cl_expatistan</th>\n",
       "      <th>costOfLivingByCountry_cl_globalEcon</th>\n",
       "      <th>NumbeoLocalPurchasingPowerIndex2023</th>\n",
       "    </tr>\n",
       "  </thead>\n",
       "  <tbody>\n",
       "    <tr>\n",
       "      <th>0</th>\n",
       "      <td>India</td>\n",
       "      <td>22.9</td>\n",
       "      <td>14.6</td>\n",
       "      <td>423.0</td>\n",
       "      <td>59.0</td>\n",
       "      <td>42.86</td>\n",
       "      <td>61.7</td>\n",
       "    </tr>\n",
       "    <tr>\n",
       "      <th>1</th>\n",
       "      <td>China</td>\n",
       "      <td>36.5</td>\n",
       "      <td>26.6</td>\n",
       "      <td>752.0</td>\n",
       "      <td>115.0</td>\n",
       "      <td>87.94</td>\n",
       "      <td>58.2</td>\n",
       "    </tr>\n",
       "    <tr>\n",
       "      <th>2</th>\n",
       "      <td>United States</td>\n",
       "      <td>74.2</td>\n",
       "      <td>61.0</td>\n",
       "      <td>1951.0</td>\n",
       "      <td>187.0</td>\n",
       "      <td>143.34</td>\n",
       "      <td>117.7</td>\n",
       "    </tr>\n",
       "    <tr>\n",
       "      <th>3</th>\n",
       "      <td>Indonesia</td>\n",
       "      <td>30.8</td>\n",
       "      <td>20.5</td>\n",
       "      <td>548.0</td>\n",
       "      <td>79.0</td>\n",
       "      <td>54.52</td>\n",
       "      <td>24.7</td>\n",
       "    </tr>\n",
       "    <tr>\n",
       "      <th>4</th>\n",
       "      <td>Pakistan</td>\n",
       "      <td>17.6</td>\n",
       "      <td>10.7</td>\n",
       "      <td>370.0</td>\n",
       "      <td>NaN</td>\n",
       "      <td>45.20</td>\n",
       "      <td>22.0</td>\n",
       "    </tr>\n",
       "  </tbody>\n",
       "</table>\n",
       "</div>"
      ],
      "text/plain": [
       "         country  NumbeoCoL2023  NumbeoCoLPlusRent2023  costOfLivingLC  \\\n",
       "0          India           22.9                   14.6           423.0   \n",
       "1          China           36.5                   26.6           752.0   \n",
       "2  United States           74.2                   61.0          1951.0   \n",
       "3      Indonesia           30.8                   20.5           548.0   \n",
       "4       Pakistan           17.6                   10.7           370.0   \n",
       "\n",
       "   costOfLivingByCountry_cl_expatistan  costOfLivingByCountry_cl_globalEcon  \\\n",
       "0                                 59.0                                42.86   \n",
       "1                                115.0                                87.94   \n",
       "2                                187.0                               143.34   \n",
       "3                                 79.0                                54.52   \n",
       "4                                  NaN                                45.20   \n",
       "\n",
       "   NumbeoLocalPurchasingPowerIndex2023  \n",
       "0                                 61.7  \n",
       "1                                 58.2  \n",
       "2                                117.7  \n",
       "3                                 24.7  \n",
       "4                                 22.0  "
      ]
     },
     "execution_count": 2,
     "metadata": {},
     "output_type": "execute_result"
    }
   ],
   "source": [
    "cost_of_living = pd.read_csv('../data/raw/cost-of-living-by-country-2024.csv')\n",
    "cost_of_living.head()"
   ]
  },
  {
   "cell_type": "code",
   "execution_count": 3,
   "id": "5ab78309-bb96-4191-8be1-55024cd64386",
   "metadata": {},
   "outputs": [
    {
     "data": {
      "text/html": [
       "<div>\n",
       "<style scoped>\n",
       "    .dataframe tbody tr th:only-of-type {\n",
       "        vertical-align: middle;\n",
       "    }\n",
       "\n",
       "    .dataframe tbody tr th {\n",
       "        vertical-align: top;\n",
       "    }\n",
       "\n",
       "    .dataframe thead th {\n",
       "        text-align: right;\n",
       "    }\n",
       "</style>\n",
       "<table border=\"1\" class=\"dataframe\">\n",
       "  <thead>\n",
       "    <tr style=\"text-align: right;\">\n",
       "      <th></th>\n",
       "      <th>column_name</th>\n",
       "      <th>percentage_of_missing_values</th>\n",
       "    </tr>\n",
       "  </thead>\n",
       "  <tbody>\n",
       "    <tr>\n",
       "      <th>0</th>\n",
       "      <td>country</td>\n",
       "      <td>0.00</td>\n",
       "    </tr>\n",
       "    <tr>\n",
       "      <th>1</th>\n",
       "      <td>NumbeoCoL2023</td>\n",
       "      <td>32.67</td>\n",
       "    </tr>\n",
       "    <tr>\n",
       "      <th>2</th>\n",
       "      <td>NumbeoCoLPlusRent2023</td>\n",
       "      <td>32.67</td>\n",
       "    </tr>\n",
       "    <tr>\n",
       "      <th>3</th>\n",
       "      <td>costOfLivingLC</td>\n",
       "      <td>4.46</td>\n",
       "    </tr>\n",
       "    <tr>\n",
       "      <th>4</th>\n",
       "      <td>costOfLivingByCountry_cl_expatistan</td>\n",
       "      <td>56.93</td>\n",
       "    </tr>\n",
       "    <tr>\n",
       "      <th>5</th>\n",
       "      <td>costOfLivingByCountry_cl_globalEcon</td>\n",
       "      <td>17.82</td>\n",
       "    </tr>\n",
       "    <tr>\n",
       "      <th>6</th>\n",
       "      <td>NumbeoLocalPurchasingPowerIndex2023</td>\n",
       "      <td>32.67</td>\n",
       "    </tr>\n",
       "  </tbody>\n",
       "</table>\n",
       "</div>"
      ],
      "text/plain": [
       "                           column_name  percentage_of_missing_values\n",
       "0                              country                          0.00\n",
       "1                        NumbeoCoL2023                         32.67\n",
       "2                NumbeoCoLPlusRent2023                         32.67\n",
       "3                       costOfLivingLC                          4.46\n",
       "4  costOfLivingByCountry_cl_expatistan                         56.93\n",
       "5  costOfLivingByCountry_cl_globalEcon                         17.82\n",
       "6  NumbeoLocalPurchasingPowerIndex2023                         32.67"
      ]
     },
     "execution_count": 3,
     "metadata": {},
     "output_type": "execute_result"
    }
   ],
   "source": [
    "functions.nan_values(cost_of_living)"
   ]
  },
  {
   "cell_type": "markdown",
   "id": "a5fbdb45-4a5e-4e7f-818e-422a6d0eba6b",
   "metadata": {},
   "source": [
    "This dataframe has different factors for cost of living from different sources. I decided to go for the Global Economy factor since it's a reliable source and doesn't have so many missing values that are relevant in my original dataframe."
   ]
  },
  {
   "cell_type": "code",
   "execution_count": 4,
   "id": "667a021d-0bef-4f71-a110-1a62191e3995",
   "metadata": {},
   "outputs": [],
   "source": [
    "cost_of_living_sliced = cost_of_living[['country','costOfLivingByCountry_cl_globalEcon']]"
   ]
  },
  {
   "cell_type": "code",
   "execution_count": 5,
   "id": "081626ad-c10f-42a9-80ef-5ce98f53c8df",
   "metadata": {},
   "outputs": [
    {
     "name": "stderr",
     "output_type": "stream",
     "text": [
      "/var/folders/dx/5q4b9pnn4zl_g4hjsbv88qx00000gn/T/ipykernel_47512/2583475187.py:1: SettingWithCopyWarning: \n",
      "A value is trying to be set on a copy of a slice from a DataFrame\n",
      "\n",
      "See the caveats in the documentation: https://pandas.pydata.org/pandas-docs/stable/user_guide/indexing.html#returning-a-view-versus-a-copy\n",
      "  cost_of_living_sliced.rename (columns={'costOfLivingByCountry_cl_globalEcon':'cost_of_living'}, inplace=True)\n"
     ]
    }
   ],
   "source": [
    "cost_of_living_sliced.rename (columns={'costOfLivingByCountry_cl_globalEcon':'cost_of_living'}, inplace=True)"
   ]
  },
  {
   "cell_type": "code",
   "execution_count": 6,
   "id": "f3ff6136-2315-483c-8060-6a352b932690",
   "metadata": {},
   "outputs": [
    {
     "data": {
      "text/html": [
       "<div>\n",
       "<style scoped>\n",
       "    .dataframe tbody tr th:only-of-type {\n",
       "        vertical-align: middle;\n",
       "    }\n",
       "\n",
       "    .dataframe tbody tr th {\n",
       "        vertical-align: top;\n",
       "    }\n",
       "\n",
       "    .dataframe thead th {\n",
       "        text-align: right;\n",
       "    }\n",
       "</style>\n",
       "<table border=\"1\" class=\"dataframe\">\n",
       "  <thead>\n",
       "    <tr style=\"text-align: right;\">\n",
       "      <th></th>\n",
       "      <th>country</th>\n",
       "      <th>cost_of_living</th>\n",
       "    </tr>\n",
       "  </thead>\n",
       "  <tbody>\n",
       "    <tr>\n",
       "      <th>0</th>\n",
       "      <td>India</td>\n",
       "      <td>42.86</td>\n",
       "    </tr>\n",
       "    <tr>\n",
       "      <th>1</th>\n",
       "      <td>China</td>\n",
       "      <td>87.94</td>\n",
       "    </tr>\n",
       "    <tr>\n",
       "      <th>2</th>\n",
       "      <td>United States</td>\n",
       "      <td>143.34</td>\n",
       "    </tr>\n",
       "    <tr>\n",
       "      <th>3</th>\n",
       "      <td>Indonesia</td>\n",
       "      <td>54.52</td>\n",
       "    </tr>\n",
       "    <tr>\n",
       "      <th>4</th>\n",
       "      <td>Pakistan</td>\n",
       "      <td>45.20</td>\n",
       "    </tr>\n",
       "    <tr>\n",
       "      <th>...</th>\n",
       "      <td>...</td>\n",
       "      <td>...</td>\n",
       "    </tr>\n",
       "    <tr>\n",
       "      <th>197</th>\n",
       "      <td>Monaco</td>\n",
       "      <td>NaN</td>\n",
       "    </tr>\n",
       "    <tr>\n",
       "      <th>198</th>\n",
       "      <td>San Marino</td>\n",
       "      <td>NaN</td>\n",
       "    </tr>\n",
       "    <tr>\n",
       "      <th>199</th>\n",
       "      <td>Palau</td>\n",
       "      <td>NaN</td>\n",
       "    </tr>\n",
       "    <tr>\n",
       "      <th>200</th>\n",
       "      <td>Nauru</td>\n",
       "      <td>NaN</td>\n",
       "    </tr>\n",
       "    <tr>\n",
       "      <th>201</th>\n",
       "      <td>Tuvalu</td>\n",
       "      <td>NaN</td>\n",
       "    </tr>\n",
       "  </tbody>\n",
       "</table>\n",
       "<p>202 rows × 2 columns</p>\n",
       "</div>"
      ],
      "text/plain": [
       "           country  cost_of_living\n",
       "0            India           42.86\n",
       "1            China           87.94\n",
       "2    United States          143.34\n",
       "3        Indonesia           54.52\n",
       "4         Pakistan           45.20\n",
       "..             ...             ...\n",
       "197         Monaco             NaN\n",
       "198     San Marino             NaN\n",
       "199          Palau             NaN\n",
       "200          Nauru             NaN\n",
       "201         Tuvalu             NaN\n",
       "\n",
       "[202 rows x 2 columns]"
      ]
     },
     "execution_count": 6,
     "metadata": {},
     "output_type": "execute_result"
    }
   ],
   "source": [
    "cost_of_living_sliced"
   ]
  },
  {
   "cell_type": "code",
   "execution_count": 7,
   "id": "94d06c9e-d320-4ded-bc95-979d3a4e3583",
   "metadata": {},
   "outputs": [],
   "source": [
    "cost_of_living_sliced.to_csv('../data/cleaned/cost_of_living_cleanedV1.csv', index=False)"
   ]
  }
 ],
 "metadata": {
  "kernelspec": {
   "display_name": "pip",
   "language": "python",
   "name": "pip"
  },
  "language_info": {
   "codemirror_mode": {
    "name": "ipython",
    "version": 3
   },
   "file_extension": ".py",
   "mimetype": "text/x-python",
   "name": "python",
   "nbconvert_exporter": "python",
   "pygments_lexer": "ipython3",
   "version": "3.11.6"
  }
 },
 "nbformat": 4,
 "nbformat_minor": 5
}

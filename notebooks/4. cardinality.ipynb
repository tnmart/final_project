{
 "cells": [
  {
   "cell_type": "markdown",
   "id": "f557ca12-f300-47c0-8b0c-143e2a1f25ef",
   "metadata": {},
   "source": [
    "## Cardinality"
   ]
  },
  {
   "cell_type": "markdown",
   "id": "f05e910c-2f3b-47dd-9e6a-b2447456ec49",
   "metadata": {},
   "source": [
    "Now I want to deal with cardinality in the column jobs_category"
   ]
  },
  {
   "cell_type": "code",
   "execution_count": 1,
   "id": "27326290-adb1-4918-bfd3-5a57b9e0a55e",
   "metadata": {},
   "outputs": [],
   "source": [
    "import pandas as pd\n",
    "import numpy as np"
   ]
  },
  {
   "cell_type": "code",
   "execution_count": 2,
   "id": "0228a22d-220b-441c-ae04-6bed274506c6",
   "metadata": {},
   "outputs": [
    {
     "data": {
      "text/html": [
       "<div>\n",
       "<style scoped>\n",
       "    .dataframe tbody tr th:only-of-type {\n",
       "        vertical-align: middle;\n",
       "    }\n",
       "\n",
       "    .dataframe tbody tr th {\n",
       "        vertical-align: top;\n",
       "    }\n",
       "\n",
       "    .dataframe thead th {\n",
       "        text-align: right;\n",
       "    }\n",
       "</style>\n",
       "<table border=\"1\" class=\"dataframe\">\n",
       "  <thead>\n",
       "    <tr style=\"text-align: right;\">\n",
       "      <th></th>\n",
       "      <th>work_year</th>\n",
       "      <th>job_title</th>\n",
       "      <th>job_category</th>\n",
       "      <th>employee_residence</th>\n",
       "      <th>experience_level</th>\n",
       "      <th>employment_type</th>\n",
       "      <th>work_setting</th>\n",
       "      <th>company_location</th>\n",
       "      <th>company_size</th>\n",
       "      <th>salary_in_euros</th>\n",
       "      <th>cost_of_living</th>\n",
       "      <th>purchasing_power</th>\n",
       "    </tr>\n",
       "  </thead>\n",
       "  <tbody>\n",
       "    <tr>\n",
       "      <th>0</th>\n",
       "      <td>2023</td>\n",
       "      <td>Data DevOps Engineer</td>\n",
       "      <td>Data Engineering</td>\n",
       "      <td>Germany</td>\n",
       "      <td>Mid-level</td>\n",
       "      <td>Full-time</td>\n",
       "      <td>Hybrid</td>\n",
       "      <td>Germany</td>\n",
       "      <td>L</td>\n",
       "      <td>87411</td>\n",
       "      <td>127.47</td>\n",
       "      <td>685.74</td>\n",
       "    </tr>\n",
       "    <tr>\n",
       "      <th>1</th>\n",
       "      <td>2023</td>\n",
       "      <td>Data Architect</td>\n",
       "      <td>Data Architecture and Modeling</td>\n",
       "      <td>United States</td>\n",
       "      <td>Senior</td>\n",
       "      <td>Full-time</td>\n",
       "      <td>In-person</td>\n",
       "      <td>United States</td>\n",
       "      <td>M</td>\n",
       "      <td>171120</td>\n",
       "      <td>143.34</td>\n",
       "      <td>1193.80</td>\n",
       "    </tr>\n",
       "    <tr>\n",
       "      <th>2</th>\n",
       "      <td>2023</td>\n",
       "      <td>Data Architect</td>\n",
       "      <td>Data Architecture and Modeling</td>\n",
       "      <td>United States</td>\n",
       "      <td>Senior</td>\n",
       "      <td>Full-time</td>\n",
       "      <td>In-person</td>\n",
       "      <td>United States</td>\n",
       "      <td>M</td>\n",
       "      <td>75256</td>\n",
       "      <td>143.34</td>\n",
       "      <td>525.02</td>\n",
       "    </tr>\n",
       "    <tr>\n",
       "      <th>3</th>\n",
       "      <td>2023</td>\n",
       "      <td>Data Scientist</td>\n",
       "      <td>Data Science and Research</td>\n",
       "      <td>United States</td>\n",
       "      <td>Senior</td>\n",
       "      <td>Full-time</td>\n",
       "      <td>In-person</td>\n",
       "      <td>United States</td>\n",
       "      <td>M</td>\n",
       "      <td>195040</td>\n",
       "      <td>143.34</td>\n",
       "      <td>1360.68</td>\n",
       "    </tr>\n",
       "    <tr>\n",
       "      <th>4</th>\n",
       "      <td>2023</td>\n",
       "      <td>Data Scientist</td>\n",
       "      <td>Data Science and Research</td>\n",
       "      <td>United States</td>\n",
       "      <td>Senior</td>\n",
       "      <td>Full-time</td>\n",
       "      <td>In-person</td>\n",
       "      <td>United States</td>\n",
       "      <td>M</td>\n",
       "      <td>85836</td>\n",
       "      <td>143.34</td>\n",
       "      <td>598.83</td>\n",
       "    </tr>\n",
       "  </tbody>\n",
       "</table>\n",
       "</div>"
      ],
      "text/plain": [
       "   work_year             job_title                    job_category  \\\n",
       "0       2023  Data DevOps Engineer                Data Engineering   \n",
       "1       2023        Data Architect  Data Architecture and Modeling   \n",
       "2       2023        Data Architect  Data Architecture and Modeling   \n",
       "3       2023        Data Scientist       Data Science and Research   \n",
       "4       2023        Data Scientist       Data Science and Research   \n",
       "\n",
       "  employee_residence experience_level employment_type work_setting  \\\n",
       "0            Germany        Mid-level       Full-time       Hybrid   \n",
       "1      United States           Senior       Full-time    In-person   \n",
       "2      United States           Senior       Full-time    In-person   \n",
       "3      United States           Senior       Full-time    In-person   \n",
       "4      United States           Senior       Full-time    In-person   \n",
       "\n",
       "  company_location company_size  salary_in_euros  cost_of_living  \\\n",
       "0          Germany            L            87411          127.47   \n",
       "1    United States            M           171120          143.34   \n",
       "2    United States            M            75256          143.34   \n",
       "3    United States            M           195040          143.34   \n",
       "4    United States            M            85836          143.34   \n",
       "\n",
       "   purchasing_power  \n",
       "0            685.74  \n",
       "1           1193.80  \n",
       "2            525.02  \n",
       "3           1360.68  \n",
       "4            598.83  "
      ]
     },
     "execution_count": 2,
     "metadata": {},
     "output_type": "execute_result"
    }
   ],
   "source": [
    "df = pd.read_csv('../data/cleaned/jobs_in_data_merged.csv')\n",
    "df.head()"
   ]
  },
  {
   "cell_type": "code",
   "execution_count": 3,
   "id": "fbac1d39-8add-49df-bc65-81b3e544c311",
   "metadata": {},
   "outputs": [
    {
     "data": {
      "text/plain": [
       "array(['Data DevOps Engineer', 'Data Architect', 'Data Scientist',\n",
       "       'Machine Learning Researcher', 'Data Engineer',\n",
       "       'Machine Learning Engineer', 'Data Analyst', 'Analytics Engineer',\n",
       "       'Applied Scientist', 'BI Developer',\n",
       "       'Business Intelligence Engineer', 'Research Scientist',\n",
       "       'Research Analyst', 'Research Engineer', 'Data Science Engineer',\n",
       "       'Data Quality Analyst', 'Data Product Manager',\n",
       "       'Machine Learning Scientist', 'AI Engineer', 'MLOps Engineer',\n",
       "       'Deep Learning Engineer', 'Data Modeler', 'Data Product Owner',\n",
       "       'Data Science Consultant', 'Business Intelligence Analyst',\n",
       "       'AI Developer', 'Data Manager', 'ML Engineer',\n",
       "       'Data Science Director', 'Head of Data', 'BI Analyst',\n",
       "       'Data Management Analyst', 'Machine Learning Modeler',\n",
       "       'Data Specialist', 'BI Data Analyst', 'Data Integration Engineer',\n",
       "       'Business Intelligence Manager', 'Data Integration Specialist',\n",
       "       'Data Science Practitioner', 'Business Intelligence Developer',\n",
       "       'AI Research Engineer', 'Data Lead', 'Data Management Specialist',\n",
       "       'AI Architect', 'Data Science Manager', 'Data Strategist',\n",
       "       'Business Intelligence Specialist',\n",
       "       'Machine Learning Infrastructure Engineer',\n",
       "       'Data Quality Engineer', 'Director of Data Science',\n",
       "       'Business Data Analyst', 'Decision Scientist',\n",
       "       'Financial Data Analyst', 'Data Strategy Manager',\n",
       "       'Computer Vision Engineer', 'Data Visualization Specialist',\n",
       "       'Insight Analyst', 'Data Visualization Engineer', 'ETL Developer',\n",
       "       'Data Analytics Manager', 'Azure Data Engineer', 'Data Developer',\n",
       "       'Principal Data Scientist', 'Data Science Lead',\n",
       "       'Staff Data Analyst', 'Data Infrastructure Engineer',\n",
       "       'Machine Learning Software Engineer',\n",
       "       'Machine Learning Operations Engineer', 'AI Scientist',\n",
       "       'Head of Machine Learning', 'Applied Data Scientist',\n",
       "       'AI Programmer', 'Data Operations Analyst',\n",
       "       'Applied Machine Learning Scientist', 'Data Analytics Lead',\n",
       "       'Data Operations Engineer', 'Machine Learning Manager',\n",
       "       'Lead Data Scientist', 'Principal Machine Learning Engineer',\n",
       "       'Principal Data Engineer', 'Power BI Developer',\n",
       "       'Head of Data Science', 'Staff Machine Learning Engineer',\n",
       "       'Staff Data Scientist', 'Consultant Data Engineer',\n",
       "       'Machine Learning Specialist',\n",
       "       'Business Intelligence Data Analyst', 'Data Operations Manager',\n",
       "       'Lead Machine Learning Engineer', 'Managing Director Data Science',\n",
       "       'Data Modeller', 'Finance Data Analyst', 'Software Data Engineer',\n",
       "       'Machine Learning Research Engineer', 'Compliance Data Analyst',\n",
       "       'Data Operations Specialist', 'Cloud Data Engineer',\n",
       "       'Analytics Engineering Manager', 'NLP Engineer',\n",
       "       'AWS Data Architect', 'Product Data Analyst',\n",
       "       'Machine Learning Developer', 'Data Visualization Analyst',\n",
       "       'Autonomous Vehicle Technician', 'Sales Data Analyst',\n",
       "       'Applied Machine Learning Engineer', 'ETL Engineer',\n",
       "       'Big Data Engineer', 'Lead Data Analyst', 'BI Data Engineer',\n",
       "       'Cloud Database Engineer', 'Deep Learning Researcher',\n",
       "       'Data Analytics Specialist', 'Big Data Architect',\n",
       "       'Computer Vision Software Engineer', 'Marketing Data Engineer',\n",
       "       'Manager Data Management', 'Data Analytics Consultant',\n",
       "       'Data Science Tech Lead', 'Data Scientist Lead',\n",
       "       'Marketing Data Analyst', 'Data Analytics Engineer',\n",
       "       'Cloud Data Architect', 'Lead Data Engineer',\n",
       "       'Principal Data Analyst'], dtype=object)"
      ]
     },
     "execution_count": 3,
     "metadata": {},
     "output_type": "execute_result"
    }
   ],
   "source": [
    "df['job_title'].unique()"
   ]
  },
  {
   "cell_type": "code",
   "execution_count": 4,
   "id": "71b36795-0284-443e-abe0-e042c88827c0",
   "metadata": {},
   "outputs": [
    {
     "data": {
      "text/plain": [
       "job_category\n",
       "Data Science and Research         1651\n",
       "Data Engineering                  1157\n",
       "Machine Learning and AI            914\n",
       "Data Analysis                      808\n",
       "Leadership and Management          351\n",
       "BI and Visualization               188\n",
       "Data Architecture and Modeling     162\n",
       "Data Management and Strategy        49\n",
       "Data Quality and Operations         45\n",
       "Cloud and Database                   5\n",
       "Name: count, dtype: int64"
      ]
     },
     "execution_count": 4,
     "metadata": {},
     "output_type": "execute_result"
    }
   ],
   "source": [
    "df['job_category'].value_counts()"
   ]
  },
  {
   "cell_type": "code",
   "execution_count": 5,
   "id": "54982560-cb9c-40ea-bcdc-af93d85abf2e",
   "metadata": {},
   "outputs": [],
   "source": [
    "jobs_dict = {\n",
    "    'Data Science and Research': 'Data Science',\n",
    "    'Data Engineering': 'Data Engineering',\n",
    "    'Machine Learning and AI': 'Data Science',\n",
    "    'Data Analysis': 'Data Analysis',\n",
    "    'Leadership and Management': 'Leadership and Management',\n",
    "    'BI and Visualization': 'Data Analysis',\n",
    "    'Data Architecture and Modeling': 'Data Engineering',\n",
    "    'Data Management and Strategy': 'Data Engineering',\n",
    "    'Data Quality and Operations': 'Data Engineering',\n",
    "    'Cloud and Database': 'Data Engineering'\n",
    "}\n",
    "\n",
    "df['job_field'] = df['job_category'].map(jobs_dict)"
   ]
  },
  {
   "cell_type": "code",
   "execution_count": 6,
   "id": "658a5837-1ea9-4b55-9e49-e643f19574a4",
   "metadata": {},
   "outputs": [
    {
     "data": {
      "text/plain": [
       "job_field\n",
       "Data Science                 2565\n",
       "Data Engineering             1418\n",
       "Data Analysis                 996\n",
       "Leadership and Management     351\n",
       "Name: count, dtype: int64"
      ]
     },
     "execution_count": 6,
     "metadata": {},
     "output_type": "execute_result"
    }
   ],
   "source": [
    "df['job_field'].value_counts()"
   ]
  },
  {
   "cell_type": "code",
   "execution_count": 7,
   "id": "a63dd586-d659-49df-8ce4-f57dd4fcc093",
   "metadata": {},
   "outputs": [],
   "source": [
    "jobs_dict_2 = {\n",
    "    \"Data Science\": ['Science', 'Scientist', 'AI', 'ML', 'Machine Learning', 'Deep Learning', 'Model'],\n",
    "    'Data Engineering' : ['Engineer', 'Engineering', 'Architect', 'DB', 'Database', 'Azure', 'ETL'],\n",
    "    'Data Analysis'  : ['Analyst', 'Analysis', 'Analytic', 'Business', 'BI'],\n",
    "}"
   ]
  },
  {
   "cell_type": "code",
   "execution_count": 8,
   "id": "3b8b4123-e5f6-4b89-ae40-54365bc35cb6",
   "metadata": {},
   "outputs": [],
   "source": [
    "def assign_job_field(job_title):\n",
    "    for key, values in jobs_dict_2.items():\n",
    "        if any(word in job_title for word in values):\n",
    "            return key\n",
    "    return 'Other'"
   ]
  },
  {
   "cell_type": "code",
   "execution_count": 9,
   "id": "5177751b-cd54-4f8f-8889-7e3ce0b64183",
   "metadata": {},
   "outputs": [],
   "source": [
    "df['job_field'] = df.apply(\n",
    "    lambda x: assign_job_field(x['job_title']) if x['job_category'] == 'Leadership and Management' else x['job_field'], \n",
    "    axis=1\n",
    ")"
   ]
  },
  {
   "cell_type": "code",
   "execution_count": 10,
   "id": "45713050-e009-4873-8e21-d6931cc3b6ce",
   "metadata": {},
   "outputs": [
    {
     "data": {
      "text/plain": [
       "job_field\n",
       "Data Science        2565\n",
       "Data Engineering    1631\n",
       "Data Analysis       1029\n",
       "Other                105\n",
       "Name: count, dtype: int64"
      ]
     },
     "execution_count": 10,
     "metadata": {},
     "output_type": "execute_result"
    }
   ],
   "source": [
    "df['job_field'].value_counts()"
   ]
  },
  {
   "cell_type": "code",
   "execution_count": 13,
   "id": "9d4abb8d-9fd0-4388-aa86-00420e52d188",
   "metadata": {},
   "outputs": [],
   "source": [
    "df.to_csv('../data/cleaned/jobs_in_data_cardinality.csv', index=False)"
   ]
  }
 ],
 "metadata": {
  "kernelspec": {
   "display_name": "pip",
   "language": "python",
   "name": "pip"
  },
  "language_info": {
   "codemirror_mode": {
    "name": "ipython",
    "version": 3
   },
   "file_extension": ".py",
   "mimetype": "text/x-python",
   "name": "python",
   "nbconvert_exporter": "python",
   "pygments_lexer": "ipython3",
   "version": "3.11.6"
  }
 },
 "nbformat": 4,
 "nbformat_minor": 5
}
